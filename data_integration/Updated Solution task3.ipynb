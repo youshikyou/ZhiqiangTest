{
 "cells": [
  {
   "cell_type": "code",
   "execution_count": null,
   "id": "78bc229f-14b1-4589-9ed5-60ed2e238584",
   "metadata": {},
   "outputs": [],
   "source": [
    "#create dataframe"
   ]
  },
  {
   "cell_type": "code",
   "execution_count": 1,
   "id": "793ea059-57e3-402f-92b2-3e3b38776139",
   "metadata": {
    "execution": {
     "iopub.execute_input": "2022-01-29T10:51:16.502832Z",
     "iopub.status.busy": "2022-01-29T10:51:16.502612Z",
     "iopub.status.idle": "2022-01-29T10:51:54.483488Z",
     "shell.execute_reply": "2022-01-29T10:51:54.482799Z",
     "shell.execute_reply.started": "2022-01-29T10:51:16.502807Z"
    },
    "tags": []
   },
   "outputs": [
    {
     "data": {
      "application/vnd.jupyter.widget-view+json": {
       "model_id": "c5429feb7b454c2ebdd8d24e2cfde1a5",
       "version_major": 2,
       "version_minor": 0
      },
      "text/plain": [
       "VBox()"
      ]
     },
     "metadata": {},
     "output_type": "display_data"
    },
    {
     "name": "stdout",
     "output_type": "stream",
     "text": [
      "Starting Spark application\n"
     ]
    },
    {
     "data": {
      "text/html": [
       "<table>\n",
       "<tr><th>ID</th><th>YARN Application ID</th><th>Kind</th><th>State</th><th>Spark UI</th><th>Driver log</th><th>Current session?</th></tr><tr><td>0</td><td>application_1643453159812_0001</td><td>pyspark</td><td>idle</td><td><a target=\"_blank\" href=\"http://ip-172-31-25-7.eu-north-1.compute.internal:20888/proxy/application_1643453159812_0001/\" class=\"emr-proxy-link\" emr-resource=\"j-3POREGLMU0R88\n",
       "\" application-id=\"application_1643453159812_0001\">Link</a></td><td><a target=\"_blank\" href=\"http://ip-172-31-25-7.eu-north-1.compute.internal:8042/node/containerlogs/container_1643453159812_0001_01_000001/livy\" >Link</a></td><td>✔</td></tr></table>"
      ],
      "text/plain": [
       "<IPython.core.display.HTML object>"
      ]
     },
     "metadata": {},
     "output_type": "display_data"
    },
    {
     "data": {
      "application/vnd.jupyter.widget-view+json": {
       "model_id": "",
       "version_major": 2,
       "version_minor": 0
      },
      "text/plain": [
       "FloatProgress(value=0.0, bar_style='info', description='Progress:', layout=Layout(height='25px', width='50%'),…"
      ]
     },
     "metadata": {},
     "output_type": "display_data"
    },
    {
     "name": "stdout",
     "output_type": "stream",
     "text": [
      "SparkSession available as 'spark'.\n"
     ]
    },
    {
     "data": {
      "application/vnd.jupyter.widget-view+json": {
       "model_id": "",
       "version_major": 2,
       "version_minor": 0
      },
      "text/plain": [
       "FloatProgress(value=0.0, bar_style='info', description='Progress:', layout=Layout(height='25px', width='50%'),…"
      ]
     },
     "metadata": {},
     "output_type": "display_data"
    }
   ],
   "source": [
    "df_hotel = spark.createDataFrame(\n",
    "    [\n",
    "        (5001, 21),\n",
    "        (5001, 22),\n",
    "        (5002,21)\n",
    "    ],\n",
    "    [\"hotel_id\", \"advertiser\"]\n",
    ")"
   ]
  },
  {
   "cell_type": "code",
   "execution_count": 2,
   "id": "faa8e437-dc8c-4be4-b76b-2ad24321f265",
   "metadata": {
    "execution": {
     "iopub.execute_input": "2022-01-29T10:52:21.565322Z",
     "iopub.status.busy": "2022-01-29T10:52:21.565097Z",
     "iopub.status.idle": "2022-01-29T10:52:28.961013Z",
     "shell.execute_reply": "2022-01-29T10:52:28.959695Z",
     "shell.execute_reply.started": "2022-01-29T10:52:21.565297Z"
    },
    "tags": []
   },
   "outputs": [
    {
     "data": {
      "application/vnd.jupyter.widget-view+json": {
       "model_id": "b0592e082664486c90e19000d8a5f24b",
       "version_major": 2,
       "version_minor": 0
      },
      "text/plain": [
       "VBox()"
      ]
     },
     "metadata": {},
     "output_type": "display_data"
    },
    {
     "data": {
      "application/vnd.jupyter.widget-view+json": {
       "model_id": "",
       "version_major": 2,
       "version_minor": 0
      },
      "text/plain": [
       "FloatProgress(value=0.0, bar_style='info', description='Progress:', layout=Layout(height='25px', width='50%'),…"
      ]
     },
     "metadata": {},
     "output_type": "display_data"
    },
    {
     "name": "stdout",
     "output_type": "stream",
     "text": [
      "+--------+----------+\n",
      "|hotel_id|advertiser|\n",
      "+--------+----------+\n",
      "|    5001|        21|\n",
      "|    5001|        22|\n",
      "|    5002|        21|\n",
      "+--------+----------+"
     ]
    }
   ],
   "source": [
    "df_hotel.show()"
   ]
  },
  {
   "cell_type": "code",
   "execution_count": 3,
   "id": "848fac80-8dc5-4d04-a09e-7358c53fdac4",
   "metadata": {
    "execution": {
     "iopub.execute_input": "2022-01-29T10:52:29.863778Z",
     "iopub.status.busy": "2022-01-29T10:52:29.863556Z",
     "iopub.status.idle": "2022-01-29T10:52:30.146428Z",
     "shell.execute_reply": "2022-01-29T10:52:30.145656Z",
     "shell.execute_reply.started": "2022-01-29T10:52:29.863755Z"
    },
    "tags": []
   },
   "outputs": [
    {
     "data": {
      "application/vnd.jupyter.widget-view+json": {
       "model_id": "2afbfc3806d5469b9c68a23bcd4ef0b9",
       "version_major": 2,
       "version_minor": 0
      },
      "text/plain": [
       "VBox()"
      ]
     },
     "metadata": {},
     "output_type": "display_data"
    },
    {
     "data": {
      "application/vnd.jupyter.widget-view+json": {
       "model_id": "",
       "version_major": 2,
       "version_minor": 0
      },
      "text/plain": [
       "FloatProgress(value=0.0, bar_style='info', description='Progress:', layout=Layout(height='25px', width='50%'),…"
      ]
     },
     "metadata": {},
     "output_type": "display_data"
    }
   ],
   "source": [
    "df_hotel.createOrReplaceTempView(\"hotel\")"
   ]
  },
  {
   "cell_type": "code",
   "execution_count": 4,
   "id": "db525525-f687-4134-961c-40cbd7bb7b2d",
   "metadata": {
    "execution": {
     "iopub.execute_input": "2022-01-29T10:52:33.240058Z",
     "iopub.status.busy": "2022-01-29T10:52:33.239603Z",
     "iopub.status.idle": "2022-01-29T10:52:35.609677Z",
     "shell.execute_reply": "2022-01-29T10:52:35.608807Z",
     "shell.execute_reply.started": "2022-01-29T10:52:33.240027Z"
    },
    "tags": []
   },
   "outputs": [
    {
     "data": {
      "application/vnd.jupyter.widget-view+json": {
       "model_id": "d0f196246d7e4136a459edd686ae784a",
       "version_major": 2,
       "version_minor": 0
      },
      "text/plain": [
       "VBox()"
      ]
     },
     "metadata": {},
     "output_type": "display_data"
    },
    {
     "data": {
      "application/vnd.jupyter.widget-view+json": {
       "model_id": "",
       "version_major": 2,
       "version_minor": 0
      },
      "text/plain": [
       "FloatProgress(value=0.0, bar_style='info', description='Progress:', layout=Layout(height='25px', width='50%'),…"
      ]
     },
     "metadata": {},
     "output_type": "display_data"
    },
    {
     "name": "stdout",
     "output_type": "stream",
     "text": [
      "+--------+----------+\n",
      "|hotel_id|advertiser|\n",
      "+--------+----------+\n",
      "|    5001|        21|\n",
      "|    5001|        22|\n",
      "|    5002|        21|\n",
      "+--------+----------+"
     ]
    }
   ],
   "source": [
    "sqlDF = spark.sql(\"SELECT * FROM hotel\")\n",
    "sqlDF.show()"
   ]
  },
  {
   "cell_type": "code",
   "execution_count": 5,
   "id": "f902c15c-9999-40eb-a8b3-89851339358a",
   "metadata": {
    "execution": {
     "iopub.execute_input": "2022-01-29T10:52:37.448008Z",
     "iopub.status.busy": "2022-01-29T10:52:37.447764Z",
     "iopub.status.idle": "2022-01-29T10:52:37.742356Z",
     "shell.execute_reply": "2022-01-29T10:52:37.741725Z",
     "shell.execute_reply.started": "2022-01-29T10:52:37.447984Z"
    },
    "tags": []
   },
   "outputs": [
    {
     "data": {
      "application/vnd.jupyter.widget-view+json": {
       "model_id": "fb2fb8db1ca34227af80994d5e8c766f",
       "version_major": 2,
       "version_minor": 0
      },
      "text/plain": [
       "VBox()"
      ]
     },
     "metadata": {},
     "output_type": "display_data"
    },
    {
     "data": {
      "application/vnd.jupyter.widget-view+json": {
       "model_id": "",
       "version_major": 2,
       "version_minor": 0
      },
      "text/plain": [
       "FloatProgress(value=0.0, bar_style='info', description='Progress:', layout=Layout(height='25px', width='50%'),…"
      ]
     },
     "metadata": {},
     "output_type": "display_data"
    }
   ],
   "source": [
    "df_clicks =spark.createDataFrame(\n",
    "    [\n",
    "        (\"US\",21,5001,100),\n",
    "        (\"US\",22,5001,50),\n",
    "        (\"US\",21,5002,10),\n",
    "        (\"IT\",22,5001,5)\n",
    "    ],\n",
    "    [\"country\" ,\"advertiser\",\"hotel_id\",\"clicks\" ]\n",
    ")"
   ]
  },
  {
   "cell_type": "code",
   "execution_count": 6,
   "id": "4e5ea8ca-5a79-4a8b-ba54-fe39050ad8d3",
   "metadata": {
    "execution": {
     "iopub.execute_input": "2022-01-29T10:52:40.512069Z",
     "iopub.status.busy": "2022-01-29T10:52:40.511845Z",
     "iopub.status.idle": "2022-01-29T10:52:41.324429Z",
     "shell.execute_reply": "2022-01-29T10:52:41.323719Z",
     "shell.execute_reply.started": "2022-01-29T10:52:40.512045Z"
    },
    "tags": []
   },
   "outputs": [
    {
     "data": {
      "application/vnd.jupyter.widget-view+json": {
       "model_id": "5ab6e56643474c2bb3d1eda61aa8036c",
       "version_major": 2,
       "version_minor": 0
      },
      "text/plain": [
       "VBox()"
      ]
     },
     "metadata": {},
     "output_type": "display_data"
    },
    {
     "data": {
      "application/vnd.jupyter.widget-view+json": {
       "model_id": "",
       "version_major": 2,
       "version_minor": 0
      },
      "text/plain": [
       "FloatProgress(value=0.0, bar_style='info', description='Progress:', layout=Layout(height='25px', width='50%'),…"
      ]
     },
     "metadata": {},
     "output_type": "display_data"
    },
    {
     "name": "stdout",
     "output_type": "stream",
     "text": [
      "+-------+----------+--------+------+\n",
      "|country|advertiser|hotel_id|clicks|\n",
      "+-------+----------+--------+------+\n",
      "|     US|        21|    5001|   100|\n",
      "|     US|        22|    5001|    50|\n",
      "|     US|        21|    5002|    10|\n",
      "|     IT|        22|    5001|     5|\n",
      "+-------+----------+--------+------+"
     ]
    }
   ],
   "source": [
    "df_clicks.show()"
   ]
  },
  {
   "cell_type": "code",
   "execution_count": 7,
   "id": "f01254e6-2832-4d5e-b64c-0ce6bfc4bcf9",
   "metadata": {
    "execution": {
     "iopub.execute_input": "2022-01-29T10:52:43.791832Z",
     "iopub.status.busy": "2022-01-29T10:52:43.791481Z",
     "iopub.status.idle": "2022-01-29T10:52:43.900345Z",
     "shell.execute_reply": "2022-01-29T10:52:43.899561Z",
     "shell.execute_reply.started": "2022-01-29T10:52:43.791789Z"
    },
    "tags": []
   },
   "outputs": [
    {
     "data": {
      "application/vnd.jupyter.widget-view+json": {
       "model_id": "03722467a59a4394b90555e1c7512d49",
       "version_major": 2,
       "version_minor": 0
      },
      "text/plain": [
       "VBox()"
      ]
     },
     "metadata": {},
     "output_type": "display_data"
    },
    {
     "data": {
      "application/vnd.jupyter.widget-view+json": {
       "model_id": "",
       "version_major": 2,
       "version_minor": 0
      },
      "text/plain": [
       "FloatProgress(value=0.0, bar_style='info', description='Progress:', layout=Layout(height='25px', width='50%'),…"
      ]
     },
     "metadata": {},
     "output_type": "display_data"
    }
   ],
   "source": [
    "df_clicks.createOrReplaceTempView(\"clicks\")"
   ]
  },
  {
   "cell_type": "code",
   "execution_count": 34,
   "id": "9b8d4d76-3203-4118-be7d-5bf2e7d76c34",
   "metadata": {
    "execution": {
     "iopub.execute_input": "2022-01-29T11:01:40.657037Z",
     "iopub.status.busy": "2022-01-29T11:01:40.656814Z",
     "iopub.status.idle": "2022-01-29T11:01:40.927923Z",
     "shell.execute_reply": "2022-01-29T11:01:40.927215Z",
     "shell.execute_reply.started": "2022-01-29T11:01:40.657013Z"
    },
    "tags": []
   },
   "outputs": [
    {
     "data": {
      "application/vnd.jupyter.widget-view+json": {
       "model_id": "ffb3fc104bb641f79e32a14323056099",
       "version_major": 2,
       "version_minor": 0
      },
      "text/plain": [
       "VBox()"
      ]
     },
     "metadata": {},
     "output_type": "display_data"
    },
    {
     "data": {
      "application/vnd.jupyter.widget-view+json": {
       "model_id": "",
       "version_major": 2,
       "version_minor": 0
      },
      "text/plain": [
       "FloatProgress(value=0.0, bar_style='info', description='Progress:', layout=Layout(height='25px', width='50%'),…"
      ]
     },
     "metadata": {},
     "output_type": "display_data"
    }
   ],
   "source": [
    "#To have a better visualization of the case, I added more data in this data frame starting from the 3rd row.\n",
    "df_bookings =spark.createDataFrame(\n",
    "    [\n",
    "        (\"US\",21,5001,10,1000),\n",
    "        (\"DE\",21,5002,1,200),\n",
    "        (\"US\",23,5003,2,500),\n",
    "        (\"US\",23,5003,2,1500),\n",
    "        (\"US\",26,5005,6,600),\n",
    "        (\"DE\",25,5003,2,500),\n",
    "        (\"IT\",3,5009,50,700),\n",
    "        (\"IT\",25,5003,30,1000),\n",
    "        (\"IT\",26,5012,30,800),\n",
    "        (\"IT\",26,5007,30,700),\n",
    "    ],\n",
    "    [\"country\" ,\"advertiser\",\"hotel_id\",\"bookings\",\"booking_volume\"]\n",
    ")"
   ]
  },
  {
   "cell_type": "code",
   "execution_count": 35,
   "id": "15879e3e-1aa8-47da-b147-5dd11173667b",
   "metadata": {
    "execution": {
     "iopub.execute_input": "2022-01-29T11:01:43.138091Z",
     "iopub.status.busy": "2022-01-29T11:01:43.137579Z",
     "iopub.status.idle": "2022-01-29T11:01:52.534562Z",
     "shell.execute_reply": "2022-01-29T11:01:52.534003Z",
     "shell.execute_reply.started": "2022-01-29T11:01:43.138048Z"
    },
    "tags": []
   },
   "outputs": [
    {
     "data": {
      "application/vnd.jupyter.widget-view+json": {
       "model_id": "a04501ab73654c73a56c11e15dfc41ce",
       "version_major": 2,
       "version_minor": 0
      },
      "text/plain": [
       "VBox()"
      ]
     },
     "metadata": {},
     "output_type": "display_data"
    },
    {
     "data": {
      "application/vnd.jupyter.widget-view+json": {
       "model_id": "",
       "version_major": 2,
       "version_minor": 0
      },
      "text/plain": [
       "FloatProgress(value=0.0, bar_style='info', description='Progress:', layout=Layout(height='25px', width='50%'),…"
      ]
     },
     "metadata": {},
     "output_type": "display_data"
    },
    {
     "name": "stdout",
     "output_type": "stream",
     "text": [
      "+-------+----------+--------+--------+--------------+\n",
      "|country|advertiser|hotel_id|bookings|booking_volume|\n",
      "+-------+----------+--------+--------+--------------+\n",
      "|     US|        21|    5001|      10|          1000|\n",
      "|     DE|        21|    5002|       1|           200|\n",
      "|     US|        23|    5003|       2|           500|\n",
      "|     US|        23|    5003|       2|          1500|\n",
      "|     US|        26|    5005|       6|           600|\n",
      "|     DE|        25|    5003|       2|           500|\n",
      "|     IT|         3|    5009|      50|           700|\n",
      "|     IT|        25|    5003|      30|          1000|\n",
      "|     IT|        26|    5012|      30|           800|\n",
      "|     IT|        26|    5007|      30|           700|\n",
      "+-------+----------+--------+--------+--------------+"
     ]
    }
   ],
   "source": [
    "df_bookings.show()"
   ]
  },
  {
   "cell_type": "code",
   "execution_count": 36,
   "id": "9bb89e70-10c1-4f0f-94d5-db6368e4d070",
   "metadata": {
    "execution": {
     "iopub.execute_input": "2022-01-29T11:01:58.373654Z",
     "iopub.status.busy": "2022-01-29T11:01:58.373419Z",
     "iopub.status.idle": "2022-01-29T11:01:58.440168Z",
     "shell.execute_reply": "2022-01-29T11:01:58.439530Z",
     "shell.execute_reply.started": "2022-01-29T11:01:58.373629Z"
    },
    "tags": []
   },
   "outputs": [
    {
     "data": {
      "application/vnd.jupyter.widget-view+json": {
       "model_id": "8697aadec7a5465692d253e250877bfb",
       "version_major": 2,
       "version_minor": 0
      },
      "text/plain": [
       "VBox()"
      ]
     },
     "metadata": {},
     "output_type": "display_data"
    },
    {
     "data": {
      "application/vnd.jupyter.widget-view+json": {
       "model_id": "",
       "version_major": 2,
       "version_minor": 0
      },
      "text/plain": [
       "FloatProgress(value=0.0, bar_style='info', description='Progress:', layout=Layout(height='25px', width='50%'),…"
      ]
     },
     "metadata": {},
     "output_type": "display_data"
    }
   ],
   "source": [
    "df_bookings.createOrReplaceTempView(\"bookings\")"
   ]
  },
  {
   "cell_type": "markdown",
   "id": "0613aa28-cf74-4966-b75e-62f8b56c3e8c",
   "metadata": {
    "execution": {
     "iopub.execute_input": "2022-01-29T09:43:23.513483Z",
     "iopub.status.busy": "2022-01-29T09:43:23.513255Z",
     "iopub.status.idle": "2022-01-29T09:43:23.576181Z",
     "shell.execute_reply": "2022-01-29T09:43:23.575626Z",
     "shell.execute_reply.started": "2022-01-29T09:43:23.513459Z"
    }
   },
   "source": [
    "###  1.Total number of clicks per hotel"
   ]
  },
  {
   "cell_type": "code",
   "execution_count": 37,
   "id": "9af6bec0-fe80-4416-884f-14218cfdff8a",
   "metadata": {
    "execution": {
     "iopub.execute_input": "2022-01-29T11:02:00.862883Z",
     "iopub.status.busy": "2022-01-29T11:02:00.862665Z",
     "iopub.status.idle": "2022-01-29T11:02:02.156222Z",
     "shell.execute_reply": "2022-01-29T11:02:02.155524Z",
     "shell.execute_reply.started": "2022-01-29T11:02:00.862859Z"
    },
    "tags": []
   },
   "outputs": [
    {
     "data": {
      "application/vnd.jupyter.widget-view+json": {
       "model_id": "92f0f315290547fe8f7465824e46fef8",
       "version_major": 2,
       "version_minor": 0
      },
      "text/plain": [
       "VBox()"
      ]
     },
     "metadata": {},
     "output_type": "display_data"
    },
    {
     "data": {
      "application/vnd.jupyter.widget-view+json": {
       "model_id": "",
       "version_major": 2,
       "version_minor": 0
      },
      "text/plain": [
       "FloatProgress(value=0.0, bar_style='info', description='Progress:', layout=Layout(height='25px', width='50%'),…"
      ]
     },
     "metadata": {},
     "output_type": "display_data"
    },
    {
     "name": "stdout",
     "output_type": "stream",
     "text": [
      "+--------+------------+\n",
      "|hotel_id|total_clicks|\n",
      "+--------+------------+\n",
      "|    5001|         155|\n",
      "|    5002|          10|\n",
      "+--------+------------+"
     ]
    }
   ],
   "source": [
    "sqlDF = spark.sql(\"\\\n",
    "        SELECT hotel_id,sum(clicks) AS total_clicks FROM clicks\\\n",
    "        GROUP BY hotel_id\\\n",
    "        ORDER BY hotel_id\\\n",
    "\")\n",
    "sqlDF.show()"
   ]
  },
  {
   "cell_type": "markdown",
   "id": "2e9c1353-b35b-4be3-992c-73fe2f789841",
   "metadata": {},
   "source": [
    "###  2.Top advertiser per country in terms of booking volume"
   ]
  },
  {
   "cell_type": "code",
   "execution_count": 38,
   "id": "8153f764-3f3a-488f-a1b7-f313896d1aa3",
   "metadata": {
    "execution": {
     "iopub.execute_input": "2022-01-29T11:02:04.291304Z",
     "iopub.status.busy": "2022-01-29T11:02:04.291066Z",
     "iopub.status.idle": "2022-01-29T11:02:05.592905Z",
     "shell.execute_reply": "2022-01-29T11:02:05.592203Z",
     "shell.execute_reply.started": "2022-01-29T11:02:04.291279Z"
    },
    "tags": []
   },
   "outputs": [
    {
     "data": {
      "application/vnd.jupyter.widget-view+json": {
       "model_id": "9e9ef7d65b314cea86979d5c80c8d6f9",
       "version_major": 2,
       "version_minor": 0
      },
      "text/plain": [
       "VBox()"
      ]
     },
     "metadata": {},
     "output_type": "display_data"
    },
    {
     "data": {
      "application/vnd.jupyter.widget-view+json": {
       "model_id": "",
       "version_major": 2,
       "version_minor": 0
      },
      "text/plain": [
       "FloatProgress(value=0.0, bar_style='info', description='Progress:', layout=Layout(height='25px', width='50%'),…"
      ]
     },
     "metadata": {},
     "output_type": "display_data"
    },
    {
     "name": "stdout",
     "output_type": "stream",
     "text": [
      "+----------+-------+------------+\n",
      "|advertiser|country|total_volume|\n",
      "+----------+-------+------------+\n",
      "|        21|     DE|         200|\n",
      "|        25|     DE|         500|\n",
      "|         3|     IT|         700|\n",
      "|        26|     IT|        1500|\n",
      "|        25|     IT|        1000|\n",
      "|        23|     US|        2000|\n",
      "|        21|     US|        1000|\n",
      "|        26|     US|         600|\n",
      "+----------+-------+------------+"
     ]
    }
   ],
   "source": [
    "sqlDF = spark.sql(\"\\\n",
    "            SELECT advertiser,country,SUM(booking_volume) AS total_volume\\\n",
    "            FROM bookings\\\n",
    "            GROUP BY country,advertiser\\\n",
    "            ORDER BY country\\\n",
    "\")\n",
    "sqlDF.show()\n",
    "sqlDF.createOrReplaceTempView(\"total_volume_table\")"
   ]
  },
  {
   "cell_type": "code",
   "execution_count": 39,
   "id": "0e0e72ab-017c-48ab-8a45-a9084509df30",
   "metadata": {
    "execution": {
     "iopub.execute_input": "2022-01-29T11:02:14.000902Z",
     "iopub.status.busy": "2022-01-29T11:02:14.000662Z",
     "iopub.status.idle": "2022-01-29T11:02:15.303576Z",
     "shell.execute_reply": "2022-01-29T11:02:15.302942Z",
     "shell.execute_reply.started": "2022-01-29T11:02:14.000877Z"
    },
    "tags": []
   },
   "outputs": [
    {
     "data": {
      "application/vnd.jupyter.widget-view+json": {
       "model_id": "ace08df20254415a8cce32ce34a634aa",
       "version_major": 2,
       "version_minor": 0
      },
      "text/plain": [
       "VBox()"
      ]
     },
     "metadata": {},
     "output_type": "display_data"
    },
    {
     "data": {
      "application/vnd.jupyter.widget-view+json": {
       "model_id": "",
       "version_major": 2,
       "version_minor": 0
      },
      "text/plain": [
       "FloatProgress(value=0.0, bar_style='info', description='Progress:', layout=Layout(height='25px', width='50%'),…"
      ]
     },
     "metadata": {},
     "output_type": "display_data"
    },
    {
     "name": "stdout",
     "output_type": "stream",
     "text": [
      "+----------+-------+------------+----+\n",
      "|advertiser|country|total_volume|rank|\n",
      "+----------+-------+------------+----+\n",
      "|        25|     DE|         500|   1|\n",
      "|        26|     IT|        1500|   1|\n",
      "|        23|     US|        2000|   1|\n",
      "+----------+-------+------------+----+"
     ]
    }
   ],
   "source": [
    "sqlDF = spark.sql(\"\\\n",
    "SELECT * \\\n",
    "      FROM (SELECT advertiser,country,total_volume,rank() over (partition by country order by total_volume DESC) as rank\\\n",
    "      FROM total_volume_table)\\\n",
    "WHERE rank=1\")\n",
    "sqlDF.show()\n",
    "sqlDF.createOrReplaceTempView(\"max_volume_table\")"
   ]
  },
  {
   "cell_type": "markdown",
   "id": "8910f71e-4cb8-439f-b234-20cce24ecec5",
   "metadata": {},
   "source": [
    "### 3.2nd advertiser per country in terms of booking volume"
   ]
  },
  {
   "cell_type": "code",
   "execution_count": 40,
   "id": "538f18ed-6f8e-474c-8501-9024fc648c0f",
   "metadata": {
    "execution": {
     "iopub.execute_input": "2022-01-29T11:02:23.743505Z",
     "iopub.status.busy": "2022-01-29T11:02:23.743232Z",
     "iopub.status.idle": "2022-01-29T11:02:24.534865Z",
     "shell.execute_reply": "2022-01-29T11:02:24.534134Z",
     "shell.execute_reply.started": "2022-01-29T11:02:23.743476Z"
    },
    "tags": []
   },
   "outputs": [
    {
     "data": {
      "application/vnd.jupyter.widget-view+json": {
       "model_id": "008948c14e74416cb7747a3e3d4cc0d2",
       "version_major": 2,
       "version_minor": 0
      },
      "text/plain": [
       "VBox()"
      ]
     },
     "metadata": {},
     "output_type": "display_data"
    },
    {
     "data": {
      "application/vnd.jupyter.widget-view+json": {
       "model_id": "",
       "version_major": 2,
       "version_minor": 0
      },
      "text/plain": [
       "FloatProgress(value=0.0, bar_style='info', description='Progress:', layout=Layout(height='25px', width='50%'),…"
      ]
     },
     "metadata": {},
     "output_type": "display_data"
    },
    {
     "name": "stdout",
     "output_type": "stream",
     "text": [
      "+----------+-------+------------+----+\n",
      "|advertiser|country|total_volume|rank|\n",
      "+----------+-------+------------+----+\n",
      "|        21|     DE|         200|   2|\n",
      "|        25|     IT|        1000|   2|\n",
      "|        21|     US|        1000|   2|\n",
      "+----------+-------+------------+----+"
     ]
    }
   ],
   "source": [
    "sqlDF = spark.sql(\" \\\n",
    "SELECT * \\\n",
    "    FROM( SELECT advertiser,country,total_volume, rank() over (partition by country order by total_volume DESC) AS rank\\\n",
    "    FROM total_volume_table)\\\n",
    "WHERE rank=2\\\n",
    "\")\n",
    "sqlDF.show()\n",
    "sqlDF.createOrReplaceTempView(\"without_top_volume_table\")"
   ]
  },
  {
   "cell_type": "markdown",
   "id": "d2cb9c8e-8be5-47dd-902f-669c61a2ed33",
   "metadata": {
    "execution": {
     "iopub.execute_input": "2022-01-29T10:09:04.710084Z",
     "iopub.status.busy": "2022-01-29T10:09:04.709861Z",
     "iopub.status.idle": "2022-01-29T10:09:04.773751Z",
     "shell.execute_reply": "2022-01-29T10:09:04.773150Z",
     "shell.execute_reply.started": "2022-01-29T10:09:04.710060Z"
    }
   },
   "source": [
    "### 4.Booking conversion rate (bookings / clicks) for all hotels in trivago.advertiser_hotels"
   ]
  },
  {
   "cell_type": "code",
   "execution_count": 41,
   "id": "cc398360-bdb8-4e6f-9a9e-5c4f9effa9e1",
   "metadata": {
    "execution": {
     "iopub.execute_input": "2022-01-29T11:02:36.139827Z",
     "iopub.status.busy": "2022-01-29T11:02:36.139601Z",
     "iopub.status.idle": "2022-01-29T11:02:36.928402Z",
     "shell.execute_reply": "2022-01-29T11:02:36.927810Z",
     "shell.execute_reply.started": "2022-01-29T11:02:36.139803Z"
    },
    "tags": []
   },
   "outputs": [
    {
     "data": {
      "application/vnd.jupyter.widget-view+json": {
       "model_id": "984c8855a5a54552a626e0baec7af808",
       "version_major": 2,
       "version_minor": 0
      },
      "text/plain": [
       "VBox()"
      ]
     },
     "metadata": {},
     "output_type": "display_data"
    },
    {
     "data": {
      "application/vnd.jupyter.widget-view+json": {
       "model_id": "",
       "version_major": 2,
       "version_minor": 0
      },
      "text/plain": [
       "FloatProgress(value=0.0, bar_style='info', description='Progress:', layout=Layout(height='25px', width='50%'),…"
      ]
     },
     "metadata": {},
     "output_type": "display_data"
    },
    {
     "name": "stdout",
     "output_type": "stream",
     "text": [
      "+--------+------------+\n",
      "|hotel_id|total_clicks|\n",
      "+--------+------------+\n",
      "|    5002|          10|\n",
      "|    5001|         155|\n",
      "+--------+------------+"
     ]
    }
   ],
   "source": [
    "sqlDF = spark.sql(\"\\\n",
    "    SELECT hotel_id, sum(clicks) AS total_clicks FROM clicks\\\n",
    "    GROUP BY hotel_id\\\n",
    "\")\n",
    "sqlDF.show()\n",
    "sqlDF.createOrReplaceTempView(\"total_clicks_per_hotel\")"
   ]
  },
  {
   "cell_type": "code",
   "execution_count": 42,
   "id": "7c58a6c7-8b38-4b44-8c2d-bccf3d9c9b0f",
   "metadata": {
    "execution": {
     "iopub.execute_input": "2022-01-29T11:02:38.686368Z",
     "iopub.status.busy": "2022-01-29T11:02:38.685871Z",
     "iopub.status.idle": "2022-01-29T11:02:39.555309Z",
     "shell.execute_reply": "2022-01-29T11:02:39.554533Z",
     "shell.execute_reply.started": "2022-01-29T11:02:38.686341Z"
    },
    "tags": []
   },
   "outputs": [
    {
     "data": {
      "application/vnd.jupyter.widget-view+json": {
       "model_id": "7afdd51fa76549048ada31be20a1c17f",
       "version_major": 2,
       "version_minor": 0
      },
      "text/plain": [
       "VBox()"
      ]
     },
     "metadata": {},
     "output_type": "display_data"
    },
    {
     "data": {
      "application/vnd.jupyter.widget-view+json": {
       "model_id": "",
       "version_major": 2,
       "version_minor": 0
      },
      "text/plain": [
       "FloatProgress(value=0.0, bar_style='info', description='Progress:', layout=Layout(height='25px', width='50%'),…"
      ]
     },
     "metadata": {},
     "output_type": "display_data"
    },
    {
     "name": "stdout",
     "output_type": "stream",
     "text": [
      "+--------+--------------+\n",
      "|hotel_id|total_bookings|\n",
      "+--------+--------------+\n",
      "|    5009|            50|\n",
      "|    5012|            30|\n",
      "|    5002|             1|\n",
      "|    5007|            30|\n",
      "|    5003|            36|\n",
      "|    5005|             6|\n",
      "|    5001|            10|\n",
      "+--------+--------------+"
     ]
    }
   ],
   "source": [
    "sqlDF = spark.sql(\"\\\n",
    "    SELECT hotel_id, sum(bookings) AS total_bookings FROM bookings\\\n",
    "    GROUP BY hotel_id\\\n",
    "\")\n",
    "sqlDF.show()\n",
    "sqlDF.createOrReplaceTempView(\"total_bookings_per_hotel\")"
   ]
  },
  {
   "cell_type": "code",
   "execution_count": 43,
   "id": "4ea9d70a-4742-455b-b355-666d7dbeb89f",
   "metadata": {
    "execution": {
     "iopub.execute_input": "2022-01-29T11:02:41.994157Z",
     "iopub.status.busy": "2022-01-29T11:02:41.992958Z",
     "iopub.status.idle": "2022-01-29T11:02:43.406388Z",
     "shell.execute_reply": "2022-01-29T11:02:43.405842Z",
     "shell.execute_reply.started": "2022-01-29T11:02:41.994127Z"
    },
    "tags": []
   },
   "outputs": [
    {
     "data": {
      "application/vnd.jupyter.widget-view+json": {
       "model_id": "6e1190e9cca34ef889018e1ed7f1b41a",
       "version_major": 2,
       "version_minor": 0
      },
      "text/plain": [
       "VBox()"
      ]
     },
     "metadata": {},
     "output_type": "display_data"
    },
    {
     "data": {
      "application/vnd.jupyter.widget-view+json": {
       "model_id": "",
       "version_major": 2,
       "version_minor": 0
      },
      "text/plain": [
       "FloatProgress(value=0.0, bar_style='info', description='Progress:', layout=Layout(height='25px', width='50%'),…"
      ]
     },
     "metadata": {},
     "output_type": "display_data"
    },
    {
     "name": "stdout",
     "output_type": "stream",
     "text": [
      "+--------+\n",
      "|hotel_id|\n",
      "+--------+\n",
      "|    5009|\n",
      "|    5012|\n",
      "|    5002|\n",
      "|    5007|\n",
      "|    5003|\n",
      "|    5005|\n",
      "|    5001|\n",
      "+--------+"
     ]
    }
   ],
   "source": [
    "sqlDF = spark.sql(\"\\\n",
    "    SELECT total_bookings_per_hotel.hotel_id\\\n",
    "    FROM total_bookings_per_hotel\\\n",
    "    UNION\\\n",
    "    SELECT total_clicks_per_hotel.hotel_id\\\n",
    "    FROM total_clicks_per_hotel\\\n",
    "\")\n",
    "sqlDF.show()\n",
    "sqlDF.createOrReplaceTempView(\"full_hotel_id\")"
   ]
  },
  {
   "cell_type": "code",
   "execution_count": 44,
   "id": "1fdae00e-a86d-43fe-b133-ca4701ab6242",
   "metadata": {
    "execution": {
     "iopub.execute_input": "2022-01-29T11:02:45.249273Z",
     "iopub.status.busy": "2022-01-29T11:02:45.249048Z",
     "iopub.status.idle": "2022-01-29T11:02:49.229755Z",
     "shell.execute_reply": "2022-01-29T11:02:49.138301Z",
     "shell.execute_reply.started": "2022-01-29T11:02:45.249248Z"
    },
    "tags": []
   },
   "outputs": [
    {
     "data": {
      "application/vnd.jupyter.widget-view+json": {
       "model_id": "48ee7404f2d34b0c8715a48be1c2b811",
       "version_major": 2,
       "version_minor": 0
      },
      "text/plain": [
       "VBox()"
      ]
     },
     "metadata": {},
     "output_type": "display_data"
    },
    {
     "data": {
      "application/vnd.jupyter.widget-view+json": {
       "model_id": "",
       "version_major": 2,
       "version_minor": 0
      },
      "text/plain": [
       "FloatProgress(value=0.0, bar_style='info', description='Progress:', layout=Layout(height='25px', width='50%'),…"
      ]
     },
     "metadata": {},
     "output_type": "display_data"
    },
    {
     "name": "stdout",
     "output_type": "stream",
     "text": [
      "+--------+--------------+------------+-----------------------+\n",
      "|hotel_id|total_bookings|total_clicks|booking_conversion_rate|\n",
      "+--------+--------------+------------+-----------------------+\n",
      "|    5009|            50|        null|                   null|\n",
      "|    5012|            30|        null|                   null|\n",
      "|    5002|             1|          10|                    0.1|\n",
      "|    5007|            30|        null|                   null|\n",
      "|    5003|            36|        null|                   null|\n",
      "|    5005|             6|        null|                   null|\n",
      "|    5001|            10|         155|    0.06451612903225806|\n",
      "+--------+--------------+------------+-----------------------+"
     ]
    }
   ],
   "source": [
    "sqlDF = spark.sql(\"\\\n",
    "    SELECT full_hotel_id.hotel_id,total_bookings,total_clicks,total_bookings/NULLIF(total_clicks,0) AS booking_conversion_rate\\\n",
    "    FROM full_hotel_id\\\n",
    "    full JOIN total_bookings_per_hotel ON total_bookings_per_hotel.hotel_id = full_hotel_id.hotel_id\\\n",
    "    full JOIN total_clicks_per_hotel ON total_clicks_per_hotel.hotel_id = full_hotel_id.hotel_id\\\n",
    "\")\n",
    "sqlDF.show()"
   ]
  },
  {
   "cell_type": "code",
   "execution_count": null,
   "id": "18da611f-6bda-41f3-8b66-42fbe1dbe763",
   "metadata": {},
   "outputs": [],
   "source": []
  }
 ],
 "metadata": {
  "kernelspec": {
   "display_name": "PySpark",
   "language": "",
   "name": "pysparkkernel"
  },
  "language_info": {
   "codemirror_mode": {
    "name": "python",
    "version": 3
   },
   "mimetype": "text/x-python",
   "name": "pyspark",
   "pygments_lexer": "python3"
  }
 },
 "nbformat": 4,
 "nbformat_minor": 5
}
