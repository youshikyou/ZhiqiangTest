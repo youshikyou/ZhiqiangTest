{
 "cells": [
  {
   "cell_type": "code",
   "execution_count": null,
   "id": "78bc229f-14b1-4589-9ed5-60ed2e238584",
   "metadata": {},
   "outputs": [],
   "source": [
    "#create dataframe"
   ]
  },
  {
   "cell_type": "code",
   "execution_count": 1,
   "id": "793ea059-57e3-402f-92b2-3e3b38776139",
   "metadata": {
    "execution": {
     "iopub.execute_input": "2022-01-29T08:54:16.617843Z",
     "iopub.status.busy": "2022-01-29T08:54:16.617603Z",
     "iopub.status.idle": "2022-01-29T08:54:56.305242Z",
     "shell.execute_reply": "2022-01-29T08:54:56.304577Z",
     "shell.execute_reply.started": "2022-01-29T08:54:16.617815Z"
    },
    "tags": []
   },
   "outputs": [
    {
     "data": {
      "application/vnd.jupyter.widget-view+json": {
       "model_id": "d46aa05c981b472481c3e7eb8d234394",
       "version_major": 2,
       "version_minor": 0
      },
      "text/plain": [
       "VBox()"
      ]
     },
     "metadata": {},
     "output_type": "display_data"
    },
    {
     "name": "stdout",
     "output_type": "stream",
     "text": [
      "Starting Spark application\n"
     ]
    },
    {
     "data": {
      "text/html": [
       "<table>\n",
       "<tr><th>ID</th><th>YARN Application ID</th><th>Kind</th><th>State</th><th>Spark UI</th><th>Driver log</th><th>Current session?</th></tr><tr><td>0</td><td>application_1643446030525_0001</td><td>pyspark</td><td>idle</td><td><a target=\"_blank\" href=\"http://ip-172-31-24-130.eu-north-1.compute.internal:20888/proxy/application_1643446030525_0001/\" class=\"emr-proxy-link\" emr-resource=\"j-2REU8NOXN1PVV\n",
       "\" application-id=\"application_1643446030525_0001\">Link</a></td><td><a target=\"_blank\" href=\"http://ip-172-31-24-130.eu-north-1.compute.internal:8042/node/containerlogs/container_1643446030525_0001_01_000001/livy\" >Link</a></td><td>✔</td></tr></table>"
      ],
      "text/plain": [
       "<IPython.core.display.HTML object>"
      ]
     },
     "metadata": {},
     "output_type": "display_data"
    },
    {
     "data": {
      "application/vnd.jupyter.widget-view+json": {
       "model_id": "",
       "version_major": 2,
       "version_minor": 0
      },
      "text/plain": [
       "FloatProgress(value=0.0, bar_style='info', description='Progress:', layout=Layout(height='25px', width='50%'),…"
      ]
     },
     "metadata": {},
     "output_type": "display_data"
    },
    {
     "name": "stdout",
     "output_type": "stream",
     "text": [
      "SparkSession available as 'spark'.\n"
     ]
    },
    {
     "data": {
      "application/vnd.jupyter.widget-view+json": {
       "model_id": "",
       "version_major": 2,
       "version_minor": 0
      },
      "text/plain": [
       "FloatProgress(value=0.0, bar_style='info', description='Progress:', layout=Layout(height='25px', width='50%'),…"
      ]
     },
     "metadata": {},
     "output_type": "display_data"
    }
   ],
   "source": [
    "df_hotel = spark.createDataFrame(\n",
    "    [\n",
    "        (5001, 21),\n",
    "        (5001, 22),\n",
    "        (5002,21)\n",
    "    ],\n",
    "    [\"hotel_id\", \"advertiser\"]\n",
    ")"
   ]
  },
  {
   "cell_type": "code",
   "execution_count": 2,
   "id": "faa8e437-dc8c-4be4-b76b-2ad24321f265",
   "metadata": {
    "execution": {
     "iopub.execute_input": "2022-01-29T08:55:08.872783Z",
     "iopub.status.busy": "2022-01-29T08:55:08.872559Z",
     "iopub.status.idle": "2022-01-29T08:55:14.242793Z",
     "shell.execute_reply": "2022-01-29T08:55:14.242000Z",
     "shell.execute_reply.started": "2022-01-29T08:55:08.872760Z"
    },
    "tags": []
   },
   "outputs": [
    {
     "data": {
      "application/vnd.jupyter.widget-view+json": {
       "model_id": "9c05b4522dc54bd1a588d5bb36cd262a",
       "version_major": 2,
       "version_minor": 0
      },
      "text/plain": [
       "VBox()"
      ]
     },
     "metadata": {},
     "output_type": "display_data"
    },
    {
     "data": {
      "application/vnd.jupyter.widget-view+json": {
       "model_id": "",
       "version_major": 2,
       "version_minor": 0
      },
      "text/plain": [
       "FloatProgress(value=0.0, bar_style='info', description='Progress:', layout=Layout(height='25px', width='50%'),…"
      ]
     },
     "metadata": {},
     "output_type": "display_data"
    },
    {
     "name": "stdout",
     "output_type": "stream",
     "text": [
      "+--------+----------+\n",
      "|hotel_id|advertiser|\n",
      "+--------+----------+\n",
      "|    5001|        21|\n",
      "|    5001|        22|\n",
      "|    5002|        21|\n",
      "+--------+----------+"
     ]
    }
   ],
   "source": [
    "df_hotel.show()"
   ]
  },
  {
   "cell_type": "code",
   "execution_count": 3,
   "id": "848fac80-8dc5-4d04-a09e-7358c53fdac4",
   "metadata": {
    "execution": {
     "iopub.execute_input": "2022-01-29T08:55:15.682370Z",
     "iopub.status.busy": "2022-01-29T08:55:15.682156Z",
     "iopub.status.idle": "2022-01-29T08:55:15.983275Z",
     "shell.execute_reply": "2022-01-29T08:55:15.982603Z",
     "shell.execute_reply.started": "2022-01-29T08:55:15.682346Z"
    },
    "tags": []
   },
   "outputs": [
    {
     "data": {
      "application/vnd.jupyter.widget-view+json": {
       "model_id": "4f16ae78119e47a38cc18c7264c7fc88",
       "version_major": 2,
       "version_minor": 0
      },
      "text/plain": [
       "VBox()"
      ]
     },
     "metadata": {},
     "output_type": "display_data"
    },
    {
     "data": {
      "application/vnd.jupyter.widget-view+json": {
       "model_id": "",
       "version_major": 2,
       "version_minor": 0
      },
      "text/plain": [
       "FloatProgress(value=0.0, bar_style='info', description='Progress:', layout=Layout(height='25px', width='50%'),…"
      ]
     },
     "metadata": {},
     "output_type": "display_data"
    }
   ],
   "source": [
    "df_hotel.createOrReplaceTempView(\"hotel\")"
   ]
  },
  {
   "cell_type": "code",
   "execution_count": 4,
   "id": "db525525-f687-4134-961c-40cbd7bb7b2d",
   "metadata": {
    "execution": {
     "iopub.execute_input": "2022-01-29T08:55:18.958709Z",
     "iopub.status.busy": "2022-01-29T08:55:18.958494Z",
     "iopub.status.idle": "2022-01-29T08:55:20.268155Z",
     "shell.execute_reply": "2022-01-29T08:55:20.267453Z",
     "shell.execute_reply.started": "2022-01-29T08:55:18.958686Z"
    },
    "tags": []
   },
   "outputs": [
    {
     "data": {
      "application/vnd.jupyter.widget-view+json": {
       "model_id": "2abbceaf2960447c9da91f47cbb15a06",
       "version_major": 2,
       "version_minor": 0
      },
      "text/plain": [
       "VBox()"
      ]
     },
     "metadata": {},
     "output_type": "display_data"
    },
    {
     "data": {
      "application/vnd.jupyter.widget-view+json": {
       "model_id": "",
       "version_major": 2,
       "version_minor": 0
      },
      "text/plain": [
       "FloatProgress(value=0.0, bar_style='info', description='Progress:', layout=Layout(height='25px', width='50%'),…"
      ]
     },
     "metadata": {},
     "output_type": "display_data"
    },
    {
     "name": "stdout",
     "output_type": "stream",
     "text": [
      "+--------+----------+\n",
      "|hotel_id|advertiser|\n",
      "+--------+----------+\n",
      "|    5001|        21|\n",
      "|    5001|        22|\n",
      "|    5002|        21|\n",
      "+--------+----------+"
     ]
    }
   ],
   "source": [
    "sqlDF = spark.sql(\"SELECT * FROM hotel\")\n",
    "sqlDF.show()"
   ]
  },
  {
   "cell_type": "code",
   "execution_count": 5,
   "id": "f902c15c-9999-40eb-a8b3-89851339358a",
   "metadata": {
    "execution": {
     "iopub.execute_input": "2022-01-29T08:55:22.507052Z",
     "iopub.status.busy": "2022-01-29T08:55:22.506827Z",
     "iopub.status.idle": "2022-01-29T08:55:22.794764Z",
     "shell.execute_reply": "2022-01-29T08:55:22.794153Z",
     "shell.execute_reply.started": "2022-01-29T08:55:22.507026Z"
    },
    "tags": []
   },
   "outputs": [
    {
     "data": {
      "application/vnd.jupyter.widget-view+json": {
       "model_id": "6b61b072ce4641ea991f01fc63402d9b",
       "version_major": 2,
       "version_minor": 0
      },
      "text/plain": [
       "VBox()"
      ]
     },
     "metadata": {},
     "output_type": "display_data"
    },
    {
     "data": {
      "application/vnd.jupyter.widget-view+json": {
       "model_id": "",
       "version_major": 2,
       "version_minor": 0
      },
      "text/plain": [
       "FloatProgress(value=0.0, bar_style='info', description='Progress:', layout=Layout(height='25px', width='50%'),…"
      ]
     },
     "metadata": {},
     "output_type": "display_data"
    }
   ],
   "source": [
    "df_clicks =spark.createDataFrame(\n",
    "    [\n",
    "        (\"US\",21,5001,100),\n",
    "        (\"US\",22,5001,50),\n",
    "        (\"US\",21,5002,10),\n",
    "        (\"IT\",22,5001,5)\n",
    "    ],\n",
    "    [\"country\" ,\"advertiser\",\"hotel_id\",\"clicks\" ]\n",
    ")"
   ]
  },
  {
   "cell_type": "code",
   "execution_count": 6,
   "id": "4e5ea8ca-5a79-4a8b-ba54-fe39050ad8d3",
   "metadata": {
    "execution": {
     "iopub.execute_input": "2022-01-29T08:55:33.105435Z",
     "iopub.status.busy": "2022-01-29T08:55:33.105219Z",
     "iopub.status.idle": "2022-01-29T08:55:33.904436Z",
     "shell.execute_reply": "2022-01-29T08:55:33.903730Z",
     "shell.execute_reply.started": "2022-01-29T08:55:33.105412Z"
    },
    "tags": []
   },
   "outputs": [
    {
     "data": {
      "application/vnd.jupyter.widget-view+json": {
       "model_id": "b8f6da331c394c07b39a79d07379fcb6",
       "version_major": 2,
       "version_minor": 0
      },
      "text/plain": [
       "VBox()"
      ]
     },
     "metadata": {},
     "output_type": "display_data"
    },
    {
     "data": {
      "application/vnd.jupyter.widget-view+json": {
       "model_id": "",
       "version_major": 2,
       "version_minor": 0
      },
      "text/plain": [
       "FloatProgress(value=0.0, bar_style='info', description='Progress:', layout=Layout(height='25px', width='50%'),…"
      ]
     },
     "metadata": {},
     "output_type": "display_data"
    },
    {
     "name": "stdout",
     "output_type": "stream",
     "text": [
      "+-------+----------+--------+------+\n",
      "|country|advertiser|hotel_id|clicks|\n",
      "+-------+----------+--------+------+\n",
      "|     US|        21|    5001|   100|\n",
      "|     US|        22|    5001|    50|\n",
      "|     US|        21|    5002|    10|\n",
      "|     IT|        22|    5001|     5|\n",
      "+-------+----------+--------+------+"
     ]
    }
   ],
   "source": [
    "df_clicks.show()"
   ]
  },
  {
   "cell_type": "code",
   "execution_count": 7,
   "id": "f01254e6-2832-4d5e-b64c-0ce6bfc4bcf9",
   "metadata": {
    "execution": {
     "iopub.execute_input": "2022-01-29T08:55:37.951807Z",
     "iopub.status.busy": "2022-01-29T08:55:37.951481Z",
     "iopub.status.idle": "2022-01-29T08:55:38.050036Z",
     "shell.execute_reply": "2022-01-29T08:55:38.049298Z",
     "shell.execute_reply.started": "2022-01-29T08:55:37.951767Z"
    },
    "tags": []
   },
   "outputs": [
    {
     "data": {
      "application/vnd.jupyter.widget-view+json": {
       "model_id": "dec776207fa74dfb9c4fa2393fe334fd",
       "version_major": 2,
       "version_minor": 0
      },
      "text/plain": [
       "VBox()"
      ]
     },
     "metadata": {},
     "output_type": "display_data"
    },
    {
     "data": {
      "application/vnd.jupyter.widget-view+json": {
       "model_id": "",
       "version_major": 2,
       "version_minor": 0
      },
      "text/plain": [
       "FloatProgress(value=0.0, bar_style='info', description='Progress:', layout=Layout(height='25px', width='50%'),…"
      ]
     },
     "metadata": {},
     "output_type": "display_data"
    }
   ],
   "source": [
    "df_clicks.createOrReplaceTempView(\"clicks\")"
   ]
  },
  {
   "cell_type": "code",
   "execution_count": 8,
   "id": "9b8d4d76-3203-4118-be7d-5bf2e7d76c34",
   "metadata": {
    "execution": {
     "iopub.execute_input": "2022-01-29T08:55:40.503903Z",
     "iopub.status.busy": "2022-01-29T08:55:40.503644Z",
     "iopub.status.idle": "2022-01-29T08:55:40.581869Z",
     "shell.execute_reply": "2022-01-29T08:55:40.581292Z",
     "shell.execute_reply.started": "2022-01-29T08:55:40.503876Z"
    },
    "tags": []
   },
   "outputs": [
    {
     "data": {
      "application/vnd.jupyter.widget-view+json": {
       "model_id": "6b217f8a47354124877b8e7b601e702e",
       "version_major": 2,
       "version_minor": 0
      },
      "text/plain": [
       "VBox()"
      ]
     },
     "metadata": {},
     "output_type": "display_data"
    },
    {
     "data": {
      "application/vnd.jupyter.widget-view+json": {
       "model_id": "",
       "version_major": 2,
       "version_minor": 0
      },
      "text/plain": [
       "FloatProgress(value=0.0, bar_style='info', description='Progress:', layout=Layout(height='25px', width='50%'),…"
      ]
     },
     "metadata": {},
     "output_type": "display_data"
    }
   ],
   "source": [
    "#To have a better visualization of the case, I added more data in this data frame starting from the 3rd row.\n",
    "df_bookings =spark.createDataFrame(\n",
    "    [\n",
    "        (\"US\",21,5001,10,1000),\n",
    "        (\"DE\",21,5002,1,200),\n",
    "        (\"US\",23,5003,2,500),\n",
    "        (\"US\",23,5003,2,1500),\n",
    "        (\"US\",26,5005,6,600),\n",
    "        (\"DE\",25,5003,2,500),\n",
    "        (\"IT\",3,5009,50,700),\n",
    "        (\"IT\",25,5003,30,1000)\n",
    "    ],\n",
    "    [\"country\" ,\"advertiser\",\"hotel_id\",\"bookings\",\"booking_volume\"]\n",
    ")"
   ]
  },
  {
   "cell_type": "code",
   "execution_count": 9,
   "id": "15879e3e-1aa8-47da-b147-5dd11173667b",
   "metadata": {
    "execution": {
     "iopub.execute_input": "2022-01-29T08:55:47.050785Z",
     "iopub.status.busy": "2022-01-29T08:55:47.050567Z",
     "iopub.status.idle": "2022-01-29T08:55:47.868762Z",
     "shell.execute_reply": "2022-01-29T08:55:47.867950Z",
     "shell.execute_reply.started": "2022-01-29T08:55:47.050760Z"
    },
    "tags": []
   },
   "outputs": [
    {
     "data": {
      "application/vnd.jupyter.widget-view+json": {
       "model_id": "921406347ed344ceb66889e4d796bee2",
       "version_major": 2,
       "version_minor": 0
      },
      "text/plain": [
       "VBox()"
      ]
     },
     "metadata": {},
     "output_type": "display_data"
    },
    {
     "data": {
      "application/vnd.jupyter.widget-view+json": {
       "model_id": "",
       "version_major": 2,
       "version_minor": 0
      },
      "text/plain": [
       "FloatProgress(value=0.0, bar_style='info', description='Progress:', layout=Layout(height='25px', width='50%'),…"
      ]
     },
     "metadata": {},
     "output_type": "display_data"
    },
    {
     "name": "stdout",
     "output_type": "stream",
     "text": [
      "+-------+----------+--------+--------+--------------+\n",
      "|country|advertiser|hotel_id|bookings|booking_volume|\n",
      "+-------+----------+--------+--------+--------------+\n",
      "|     US|        21|    5001|      10|          1000|\n",
      "|     DE|        21|    5002|       1|           200|\n",
      "|     US|        23|    5003|       2|           500|\n",
      "|     US|        23|    5003|       2|          1500|\n",
      "|     US|        26|    5005|       6|           600|\n",
      "|     DE|        25|    5003|       2|           500|\n",
      "|     IT|         3|    5009|      50|           700|\n",
      "|     IT|        25|    5003|      30|          1000|\n",
      "+-------+----------+--------+--------+--------------+"
     ]
    }
   ],
   "source": [
    "df_bookings.show()"
   ]
  },
  {
   "cell_type": "code",
   "execution_count": 10,
   "id": "9bb89e70-10c1-4f0f-94d5-db6368e4d070",
   "metadata": {
    "execution": {
     "iopub.execute_input": "2022-01-29T08:55:51.534641Z",
     "iopub.status.busy": "2022-01-29T08:55:51.534415Z",
     "iopub.status.idle": "2022-01-29T08:55:51.622759Z",
     "shell.execute_reply": "2022-01-29T08:55:51.622004Z",
     "shell.execute_reply.started": "2022-01-29T08:55:51.534617Z"
    },
    "tags": []
   },
   "outputs": [
    {
     "data": {
      "application/vnd.jupyter.widget-view+json": {
       "model_id": "866805aa3ade45a482bcc42bff274cb8",
       "version_major": 2,
       "version_minor": 0
      },
      "text/plain": [
       "VBox()"
      ]
     },
     "metadata": {},
     "output_type": "display_data"
    },
    {
     "data": {
      "application/vnd.jupyter.widget-view+json": {
       "model_id": "",
       "version_major": 2,
       "version_minor": 0
      },
      "text/plain": [
       "FloatProgress(value=0.0, bar_style='info', description='Progress:', layout=Layout(height='25px', width='50%'),…"
      ]
     },
     "metadata": {},
     "output_type": "display_data"
    }
   ],
   "source": [
    "df_bookings.createOrReplaceTempView(\"bookings\")"
   ]
  },
  {
   "cell_type": "markdown",
   "id": "0613aa28-cf74-4966-b75e-62f8b56c3e8c",
   "metadata": {
    "execution": {
     "iopub.execute_input": "2022-01-29T09:43:23.513483Z",
     "iopub.status.busy": "2022-01-29T09:43:23.513255Z",
     "iopub.status.idle": "2022-01-29T09:43:23.576181Z",
     "shell.execute_reply": "2022-01-29T09:43:23.575626Z",
     "shell.execute_reply.started": "2022-01-29T09:43:23.513459Z"
    }
   },
   "source": [
    "###  1.Total number of clicks per hotel"
   ]
  },
  {
   "cell_type": "code",
   "execution_count": 11,
   "id": "9af6bec0-fe80-4416-884f-14218cfdff8a",
   "metadata": {
    "execution": {
     "iopub.execute_input": "2022-01-29T08:55:54.162547Z",
     "iopub.status.busy": "2022-01-29T08:55:54.162321Z",
     "iopub.status.idle": "2022-01-29T08:55:56.517559Z",
     "shell.execute_reply": "2022-01-29T08:55:56.516733Z",
     "shell.execute_reply.started": "2022-01-29T08:55:54.162521Z"
    },
    "tags": []
   },
   "outputs": [
    {
     "data": {
      "application/vnd.jupyter.widget-view+json": {
       "model_id": "ed9ffb96c2c148588122a61eabbce4e4",
       "version_major": 2,
       "version_minor": 0
      },
      "text/plain": [
       "VBox()"
      ]
     },
     "metadata": {},
     "output_type": "display_data"
    },
    {
     "data": {
      "application/vnd.jupyter.widget-view+json": {
       "model_id": "",
       "version_major": 2,
       "version_minor": 0
      },
      "text/plain": [
       "FloatProgress(value=0.0, bar_style='info', description='Progress:', layout=Layout(height='25px', width='50%'),…"
      ]
     },
     "metadata": {},
     "output_type": "display_data"
    },
    {
     "name": "stdout",
     "output_type": "stream",
     "text": [
      "+--------+------------+\n",
      "|hotel_id|total_clicks|\n",
      "+--------+------------+\n",
      "|    5001|         155|\n",
      "|    5002|          10|\n",
      "+--------+------------+"
     ]
    }
   ],
   "source": [
    "sqlDF = spark.sql(\"\\\n",
    "        SELECT hotel_id,sum(clicks) AS total_clicks FROM clicks\\\n",
    "        GROUP BY hotel_id\\\n",
    "        ORDER BY hotel_id\\\n",
    "\")\n",
    "sqlDF.show()"
   ]
  },
  {
   "cell_type": "markdown",
   "id": "2e9c1353-b35b-4be3-992c-73fe2f789841",
   "metadata": {},
   "source": [
    "###  2.Top advertiser per country in terms of booking volume"
   ]
  },
  {
   "cell_type": "code",
   "execution_count": 47,
   "id": "8153f764-3f3a-488f-a1b7-f313896d1aa3",
   "metadata": {
    "execution": {
     "iopub.execute_input": "2022-01-29T09:35:05.261381Z",
     "iopub.status.busy": "2022-01-29T09:35:05.261162Z",
     "iopub.status.idle": "2022-01-29T09:35:06.044651Z",
     "shell.execute_reply": "2022-01-29T09:35:06.044004Z",
     "shell.execute_reply.started": "2022-01-29T09:35:05.261355Z"
    },
    "tags": []
   },
   "outputs": [
    {
     "data": {
      "application/vnd.jupyter.widget-view+json": {
       "model_id": "7258e388b9cc4bcf9396432692595530",
       "version_major": 2,
       "version_minor": 0
      },
      "text/plain": [
       "VBox()"
      ]
     },
     "metadata": {},
     "output_type": "display_data"
    },
    {
     "data": {
      "application/vnd.jupyter.widget-view+json": {
       "model_id": "",
       "version_major": 2,
       "version_minor": 0
      },
      "text/plain": [
       "FloatProgress(value=0.0, bar_style='info', description='Progress:', layout=Layout(height='25px', width='50%'),…"
      ]
     },
     "metadata": {},
     "output_type": "display_data"
    },
    {
     "name": "stdout",
     "output_type": "stream",
     "text": [
      "+----------+-------+------------+\n",
      "|advertiser|country|total_volume|\n",
      "+----------+-------+------------+\n",
      "|        21|     DE|         200|\n",
      "|        25|     DE|         500|\n",
      "|         3|     IT|         700|\n",
      "|        25|     IT|        1000|\n",
      "|        23|     US|        2000|\n",
      "|        26|     US|         600|\n",
      "|        21|     US|        1000|\n",
      "+----------+-------+------------+"
     ]
    }
   ],
   "source": [
    "sqlDF = spark.sql(\"\\\n",
    "            SELECT advertiser,country,SUM(booking_volume) AS total_volume\\\n",
    "            FROM bookings\\\n",
    "            GROUP BY country,advertiser\\\n",
    "            ORDER BY country\\\n",
    "\")\n",
    "sqlDF.show()\n",
    "sqlDF.createOrReplaceTempView(\"total_volume_table\")"
   ]
  },
  {
   "cell_type": "code",
   "execution_count": 46,
   "id": "37999900-2ea2-4e19-85ed-a6f674260874",
   "metadata": {
    "execution": {
     "iopub.execute_input": "2022-01-29T09:33:52.382555Z",
     "iopub.status.busy": "2022-01-29T09:33:52.382338Z",
     "iopub.status.idle": "2022-01-29T09:34:09.799563Z",
     "shell.execute_reply": "2022-01-29T09:34:09.798837Z",
     "shell.execute_reply.started": "2022-01-29T09:33:52.382531Z"
    },
    "tags": []
   },
   "outputs": [
    {
     "data": {
      "application/vnd.jupyter.widget-view+json": {
       "model_id": "2de8ad7188a64a2bbcefd4ebb3c25832",
       "version_major": 2,
       "version_minor": 0
      },
      "text/plain": [
       "VBox()"
      ]
     },
     "metadata": {},
     "output_type": "display_data"
    },
    {
     "data": {
      "application/vnd.jupyter.widget-view+json": {
       "model_id": "",
       "version_major": 2,
       "version_minor": 0
      },
      "text/plain": [
       "FloatProgress(value=0.0, bar_style='info', description='Progress:', layout=Layout(height='25px', width='50%'),…"
      ]
     },
     "metadata": {},
     "output_type": "display_data"
    },
    {
     "name": "stdout",
     "output_type": "stream",
     "text": [
      "+----------+-------+----------+\n",
      "|advertiser|country|max_volume|\n",
      "+----------+-------+----------+\n",
      "|        21|     DE|       500|\n",
      "|        25|     DE|       500|\n",
      "|         3|     IT|      1000|\n",
      "|        25|     IT|      1000|\n",
      "|        21|     US|      2000|\n",
      "|        23|     US|      2000|\n",
      "|        26|     US|      2000|\n",
      "+----------+-------+----------+"
     ]
    }
   ],
   "source": [
    "sqlDF = spark.sql(\"\\\n",
    "    SELECT advertiser,country,MAX(total_volume) over (PARTITION BY country) as max_volume\\\n",
    "    FROM top_volume_table\\\n",
    "\")\n",
    "sqlDF.show()\n",
    "sqlDF.createOrReplaceTempView(\"max_volume_table\")"
   ]
  },
  {
   "cell_type": "code",
   "execution_count": 54,
   "id": "bde93992-85b5-4364-8e93-e7549bf5bf14",
   "metadata": {
    "execution": {
     "iopub.execute_input": "2022-01-29T09:41:42.416299Z",
     "iopub.status.busy": "2022-01-29T09:41:42.416052Z",
     "iopub.status.idle": "2022-01-29T09:41:44.738341Z",
     "shell.execute_reply": "2022-01-29T09:41:44.737518Z",
     "shell.execute_reply.started": "2022-01-29T09:41:42.416274Z"
    },
    "tags": []
   },
   "outputs": [
    {
     "data": {
      "application/vnd.jupyter.widget-view+json": {
       "model_id": "6a251c68767e4753a06fd4169d5d43cc",
       "version_major": 2,
       "version_minor": 0
      },
      "text/plain": [
       "VBox()"
      ]
     },
     "metadata": {},
     "output_type": "display_data"
    },
    {
     "data": {
      "application/vnd.jupyter.widget-view+json": {
       "model_id": "",
       "version_major": 2,
       "version_minor": 0
      },
      "text/plain": [
       "FloatProgress(value=0.0, bar_style='info', description='Progress:', layout=Layout(height='25px', width='50%'),…"
      ]
     },
     "metadata": {},
     "output_type": "display_data"
    },
    {
     "name": "stdout",
     "output_type": "stream",
     "text": [
      "+----------+-------+----------+\n",
      "|advertiser|country|max_volume|\n",
      "+----------+-------+----------+\n",
      "|        25|     DE|       500|\n",
      "|        25|     IT|      1000|\n",
      "|        23|     US|      2000|\n",
      "+----------+-------+----------+"
     ]
    }
   ],
   "source": [
    "sqlDF = spark.sql(\"\\\n",
    "SELECT max_volume_table.advertiser,max_volume_table.country,max_volume\\\n",
    "                  FROM max_volume_table\\\n",
    "                  JOIN total_volume_table\\\n",
    "                  ON max_volume_table.country = total_volume_table.country\\\n",
    "                  AND max_volume_table.advertiser=total_volume_table.advertiser\\\n",
    "                  AND max_volume_table.max_volume=total_volume_table.total_volume\\\n",
    "\")\n",
    "sqlDF.show()"
   ]
  },
  {
   "cell_type": "markdown",
   "id": "8910f71e-4cb8-439f-b234-20cce24ecec5",
   "metadata": {},
   "source": [
    "### 3.2nd advertiser per country in terms of booking volume"
   ]
  },
  {
   "cell_type": "code",
   "execution_count": 71,
   "id": "538f18ed-6f8e-474c-8501-9024fc648c0f",
   "metadata": {
    "execution": {
     "iopub.execute_input": "2022-01-29T10:06:22.900900Z",
     "iopub.status.busy": "2022-01-29T10:06:22.900665Z",
     "iopub.status.idle": "2022-01-29T10:06:24.201818Z",
     "shell.execute_reply": "2022-01-29T10:06:24.201187Z",
     "shell.execute_reply.started": "2022-01-29T10:06:22.900876Z"
    },
    "tags": []
   },
   "outputs": [
    {
     "data": {
      "application/vnd.jupyter.widget-view+json": {
       "model_id": "f52505bd817048c4ad356372f66fc7a3",
       "version_major": 2,
       "version_minor": 0
      },
      "text/plain": [
       "VBox()"
      ]
     },
     "metadata": {},
     "output_type": "display_data"
    },
    {
     "data": {
      "application/vnd.jupyter.widget-view+json": {
       "model_id": "",
       "version_major": 2,
       "version_minor": 0
      },
      "text/plain": [
       "FloatProgress(value=0.0, bar_style='info', description='Progress:', layout=Layout(height='25px', width='50%'),…"
      ]
     },
     "metadata": {},
     "output_type": "display_data"
    },
    {
     "name": "stdout",
     "output_type": "stream",
     "text": [
      "+----------+-------+------------+----+\n",
      "|advertiser|country|total_volume|rank|\n",
      "+----------+-------+------------+----+\n",
      "|        21|     DE|         200|   2|\n",
      "|         3|     IT|         700|   2|\n",
      "|        21|     US|        1000|   2|\n",
      "+----------+-------+------------+----+"
     ]
    }
   ],
   "source": [
    "sqlDF = spark.sql(\" \\\n",
    "SELECT * FROM(\\\n",
    "    SELECT advertiser,country,total_volume, rank() over (partition by country order by total_volume DESC) AS rank\\\n",
    "    FROM total_volume_table)\\\n",
    "WHERE rank=2\\\n",
    "\")\n",
    "sqlDF.show()\n",
    "sqlDF.createOrReplaceTempView(\"without_top_volume_table\")"
   ]
  },
  {
   "cell_type": "code",
   "execution_count": 74,
   "id": "cbaffa6d-2ee6-4b3a-9dc0-90b1522eb068",
   "metadata": {
    "execution": {
     "iopub.execute_input": "2022-01-29T10:08:10.305876Z",
     "iopub.status.busy": "2022-01-29T10:08:10.305661Z",
     "iopub.status.idle": "2022-01-29T10:08:29.654447Z",
     "shell.execute_reply": "2022-01-29T10:08:29.653749Z",
     "shell.execute_reply.started": "2022-01-29T10:08:10.305852Z"
    },
    "tags": []
   },
   "outputs": [
    {
     "data": {
      "application/vnd.jupyter.widget-view+json": {
       "model_id": "86aa643b8a6647a79cd627afa86cc5d7",
       "version_major": 2,
       "version_minor": 0
      },
      "text/plain": [
       "VBox()"
      ]
     },
     "metadata": {},
     "output_type": "display_data"
    },
    {
     "data": {
      "application/vnd.jupyter.widget-view+json": {
       "model_id": "",
       "version_major": 2,
       "version_minor": 0
      },
      "text/plain": [
       "FloatProgress(value=0.0, bar_style='info', description='Progress:', layout=Layout(height='25px', width='50%'),…"
      ]
     },
     "metadata": {},
     "output_type": "display_data"
    },
    {
     "name": "stdout",
     "output_type": "stream",
     "text": [
      "+----------+-------+------------+\n",
      "|advertiser|country|total_volume|\n",
      "+----------+-------+------------+\n",
      "|        21|     DE|         200|\n",
      "|         3|     IT|         700|\n",
      "|        21|     US|        1000|\n",
      "+----------+-------+------------+"
     ]
    }
   ],
   "source": [
    "sqlDF = spark.sql(\"\\\n",
    "SELECT without_top_volume_table.advertiser,without_top_volume_table.country,without_top_volume_table.total_volume\\\n",
    "                  FROM without_top_volume_table\\\n",
    "                  JOIN total_volume_table\\\n",
    "                  ON without_top_volume_table.country = total_volume_table.country\\\n",
    "                  AND without_top_volume_table.advertiser=total_volume_table.advertiser\\\n",
    "                  AND without_top_volume_table.total_volume=total_volume_table.total_volume\\\n",
    "\")\n",
    "sqlDF.show()"
   ]
  },
  {
   "cell_type": "markdown",
   "id": "d2cb9c8e-8be5-47dd-902f-669c61a2ed33",
   "metadata": {
    "execution": {
     "iopub.execute_input": "2022-01-29T10:09:04.710084Z",
     "iopub.status.busy": "2022-01-29T10:09:04.709861Z",
     "iopub.status.idle": "2022-01-29T10:09:04.773751Z",
     "shell.execute_reply": "2022-01-29T10:09:04.773150Z",
     "shell.execute_reply.started": "2022-01-29T10:09:04.710060Z"
    }
   },
   "source": [
    "### 4.Booking conversion rate (bookings / clicks) for all hotels in trivago.advertiser_hotels"
   ]
  },
  {
   "cell_type": "code",
   "execution_count": 77,
   "id": "cc398360-bdb8-4e6f-9a9e-5c4f9effa9e1",
   "metadata": {
    "execution": {
     "iopub.execute_input": "2022-01-29T10:09:12.657922Z",
     "iopub.status.busy": "2022-01-29T10:09:12.657705Z",
     "iopub.status.idle": "2022-01-29T10:09:13.447563Z",
     "shell.execute_reply": "2022-01-29T10:09:13.446950Z",
     "shell.execute_reply.started": "2022-01-29T10:09:12.657898Z"
    },
    "tags": []
   },
   "outputs": [
    {
     "data": {
      "application/vnd.jupyter.widget-view+json": {
       "model_id": "a29816ed71d24ede945083e84ae03fa5",
       "version_major": 2,
       "version_minor": 0
      },
      "text/plain": [
       "VBox()"
      ]
     },
     "metadata": {},
     "output_type": "display_data"
    },
    {
     "data": {
      "application/vnd.jupyter.widget-view+json": {
       "model_id": "",
       "version_major": 2,
       "version_minor": 0
      },
      "text/plain": [
       "FloatProgress(value=0.0, bar_style='info', description='Progress:', layout=Layout(height='25px', width='50%'),…"
      ]
     },
     "metadata": {},
     "output_type": "display_data"
    },
    {
     "name": "stdout",
     "output_type": "stream",
     "text": [
      "+--------+------------+\n",
      "|hotel_id|total_clicks|\n",
      "+--------+------------+\n",
      "|    5002|          10|\n",
      "|    5001|         155|\n",
      "+--------+------------+"
     ]
    }
   ],
   "source": [
    "sqlDF = spark.sql(\"\\\n",
    "    SELECT hotel_id, sum(clicks) AS total_clicks FROM clicks\\\n",
    "    GROUP BY hotel_id\\\n",
    "\")\n",
    "sqlDF.show()\n",
    "sqlDF.createOrReplaceTempView(\"total_clicks_per_hotel\")"
   ]
  },
  {
   "cell_type": "code",
   "execution_count": 78,
   "id": "7c58a6c7-8b38-4b44-8c2d-bccf3d9c9b0f",
   "metadata": {
    "execution": {
     "iopub.execute_input": "2022-01-29T10:09:18.143879Z",
     "iopub.status.busy": "2022-01-29T10:09:18.143647Z",
     "iopub.status.idle": "2022-01-29T10:09:18.929136Z",
     "shell.execute_reply": "2022-01-29T10:09:18.928543Z",
     "shell.execute_reply.started": "2022-01-29T10:09:18.143854Z"
    },
    "tags": []
   },
   "outputs": [
    {
     "data": {
      "application/vnd.jupyter.widget-view+json": {
       "model_id": "cb6c9fe51b79453aae9b03bc2d0a3140",
       "version_major": 2,
       "version_minor": 0
      },
      "text/plain": [
       "VBox()"
      ]
     },
     "metadata": {},
     "output_type": "display_data"
    },
    {
     "data": {
      "application/vnd.jupyter.widget-view+json": {
       "model_id": "",
       "version_major": 2,
       "version_minor": 0
      },
      "text/plain": [
       "FloatProgress(value=0.0, bar_style='info', description='Progress:', layout=Layout(height='25px', width='50%'),…"
      ]
     },
     "metadata": {},
     "output_type": "display_data"
    },
    {
     "name": "stdout",
     "output_type": "stream",
     "text": [
      "+--------+--------------+\n",
      "|hotel_id|total_bookings|\n",
      "+--------+--------------+\n",
      "|    5009|            50|\n",
      "|    5002|             1|\n",
      "|    5003|            36|\n",
      "|    5005|             6|\n",
      "|    5001|            10|\n",
      "+--------+--------------+"
     ]
    }
   ],
   "source": [
    "sqlDF = spark.sql(\"\\\n",
    "    SELECT hotel_id, sum(bookings) AS total_bookings FROM bookings\\\n",
    "    GROUP BY hotel_id\\\n",
    "\")\n",
    "sqlDF.show()\n",
    "sqlDF.createOrReplaceTempView(\"total_bookings_per_hotel\")"
   ]
  },
  {
   "cell_type": "code",
   "execution_count": 79,
   "id": "4ea9d70a-4742-455b-b355-666d7dbeb89f",
   "metadata": {
    "execution": {
     "iopub.execute_input": "2022-01-29T10:09:24.807663Z",
     "iopub.status.busy": "2022-01-29T10:09:24.807404Z",
     "iopub.status.idle": "2022-01-29T10:09:27.124904Z",
     "shell.execute_reply": "2022-01-29T10:09:27.123597Z",
     "shell.execute_reply.started": "2022-01-29T10:09:24.807638Z"
    },
    "tags": []
   },
   "outputs": [
    {
     "data": {
      "application/vnd.jupyter.widget-view+json": {
       "model_id": "413df3fc8f79455d8b815d93efe8c9d1",
       "version_major": 2,
       "version_minor": 0
      },
      "text/plain": [
       "VBox()"
      ]
     },
     "metadata": {},
     "output_type": "display_data"
    },
    {
     "data": {
      "application/vnd.jupyter.widget-view+json": {
       "model_id": "",
       "version_major": 2,
       "version_minor": 0
      },
      "text/plain": [
       "FloatProgress(value=0.0, bar_style='info', description='Progress:', layout=Layout(height='25px', width='50%'),…"
      ]
     },
     "metadata": {},
     "output_type": "display_data"
    },
    {
     "name": "stdout",
     "output_type": "stream",
     "text": [
      "+--------+\n",
      "|hotel_id|\n",
      "+--------+\n",
      "|    5009|\n",
      "|    5002|\n",
      "|    5003|\n",
      "|    5005|\n",
      "|    5001|\n",
      "+--------+"
     ]
    }
   ],
   "source": [
    "sqlDF = spark.sql(\"\\\n",
    "    SELECT total_bookings_per_hotel.hotel_id\\\n",
    "    FROM total_bookings_per_hotel\\\n",
    "    UNION\\\n",
    "    SELECT total_clicks_per_hotel.hotel_id\\\n",
    "    FROM total_clicks_per_hotel\\\n",
    "\")\n",
    "sqlDF.show()\n",
    "sqlDF.createOrReplaceTempView(\"full_hotel_id\")"
   ]
  },
  {
   "cell_type": "code",
   "execution_count": 80,
   "id": "1fdae00e-a86d-43fe-b133-ca4701ab6242",
   "metadata": {
    "execution": {
     "iopub.execute_input": "2022-01-29T10:09:34.562154Z",
     "iopub.status.busy": "2022-01-29T10:09:34.561919Z",
     "iopub.status.idle": "2022-01-29T10:09:40.024134Z",
     "shell.execute_reply": "2022-01-29T10:09:40.023541Z",
     "shell.execute_reply.started": "2022-01-29T10:09:34.562129Z"
    },
    "tags": []
   },
   "outputs": [
    {
     "data": {
      "application/vnd.jupyter.widget-view+json": {
       "model_id": "f63591bebb3b4a7781faa25c98299eed",
       "version_major": 2,
       "version_minor": 0
      },
      "text/plain": [
       "VBox()"
      ]
     },
     "metadata": {},
     "output_type": "display_data"
    },
    {
     "data": {
      "application/vnd.jupyter.widget-view+json": {
       "model_id": "",
       "version_major": 2,
       "version_minor": 0
      },
      "text/plain": [
       "FloatProgress(value=0.0, bar_style='info', description='Progress:', layout=Layout(height='25px', width='50%'),…"
      ]
     },
     "metadata": {},
     "output_type": "display_data"
    },
    {
     "name": "stdout",
     "output_type": "stream",
     "text": [
      "+--------+--------------+------------+-----------------------+\n",
      "|hotel_id|total_bookings|total_clicks|booking_conversion_rate|\n",
      "+--------+--------------+------------+-----------------------+\n",
      "|    5009|            50|        null|                   null|\n",
      "|    5002|             1|          10|                    0.1|\n",
      "|    5003|            36|        null|                   null|\n",
      "|    5005|             6|        null|                   null|\n",
      "|    5001|            10|         155|    0.06451612903225806|\n",
      "+--------+--------------+------------+-----------------------+"
     ]
    }
   ],
   "source": [
    "sqlDF = spark.sql(\"\\\n",
    "    SELECT full_hotel_id.hotel_id,total_bookings,total_clicks,total_bookings/NULLIF(total_clicks,0) AS booking_conversion_rate\\\n",
    "    FROM full_hotel_id\\\n",
    "    full JOIN total_bookings_per_hotel ON total_bookings_per_hotel.hotel_id = full_hotel_id.hotel_id\\\n",
    "    full JOIN total_clicks_per_hotel ON total_clicks_per_hotel.hotel_id = full_hotel_id.hotel_id\\\n",
    "\")\n",
    "sqlDF.show()"
   ]
  }
 ],
 "metadata": {
  "kernelspec": {
   "display_name": "PySpark",
   "language": "",
   "name": "pysparkkernel"
  },
  "language_info": {
   "codemirror_mode": {
    "name": "python",
    "version": 3
   },
   "mimetype": "text/x-python",
   "name": "pyspark",
   "pygments_lexer": "python3"
  }
 },
 "nbformat": 4,
 "nbformat_minor": 5
}
